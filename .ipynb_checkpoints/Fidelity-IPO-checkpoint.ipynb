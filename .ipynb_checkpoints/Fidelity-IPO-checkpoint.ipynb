{
 "cells": [
  {
   "cell_type": "code",
   "execution_count": 4,
   "metadata": {
    "collapsed": true
   },
   "outputs": [
    {
     "name": "stdout",
     "output_type": "stream",
     "text": [
      "Requirement already satisfied: selenium in /home/jp/anaconda3/lib/python3.8/site-packages (3.141.0)\n",
      "Requirement already satisfied: urllib3 in /home/jp/anaconda3/lib/python3.8/site-packages (from selenium) (1.26.6)\n",
      "Requirement already satisfied: pandas in /home/jp/anaconda3/lib/python3.8/site-packages (1.1.3)\n",
      "Requirement already satisfied: python-dateutil>=2.7.3 in /home/jp/.local/lib/python3.8/site-packages (from pandas) (2.8.1)\n",
      "Requirement already satisfied: pytz>=2017.2 in /home/jp/anaconda3/lib/python3.8/site-packages (from pandas) (2021.1)\n",
      "Requirement already satisfied: numpy>=1.15.4 in /home/jp/anaconda3/lib/python3.8/site-packages (from pandas) (1.19.2)\n",
      "Requirement already satisfied: six>=1.5 in /home/jp/anaconda3/lib/python3.8/site-packages (from python-dateutil>=2.7.3->pandas) (1.16.0)\n"
     ]
    }
   ],
   "source": [
    "!pip install selenium\n",
    "!pip install pandas"
   ]
  },
  {
   "cell_type": "code",
   "execution_count": 3,
   "metadata": {},
   "outputs": [],
   "source": [
    "import time\n",
    "import json\n",
    "import pandas as pd"
   ]
  },
  {
   "cell_type": "code",
   "execution_count": 14,
   "metadata": {},
   "outputs": [],
   "source": [
    "from selenium import webdriver\n",
    "\n",
    "PATH = '/home/jp/Python/chromedriver'\n",
    "driver = webdriver.Chrome(PATH)\n",
    "url = 'https://www.fidelity.com/stock-trading/previous-year-ipos'\n",
    "\n",
    "driver.get(url)\n",
    "driver.maximize_window()\n",
    "\n",
    "ipos = []\n",
    "\n",
    "for year in range(1996,2021):\n",
    "    table = driver.find_element_by_xpath(\"//*[@id='{}']/table\".format(year))\n",
    "\n",
    "    for row in table.find_elements_by_xpath(\".//tr\"):\n",
    "        ipo = [td.text for td in row.find_elements_by_xpath(\".//td\")]\n",
    "        if (ipo != []) and (ipo[5] == 'IPO') and ('Credit Suisse' in ipo[6]):\n",
    "            ipos.append(ipo)\n",
    "            \n",
    "with open('fidelity-credit_suisse-IPOs.json', 'w+') as f:\n",
    "    json.dump(ipos, f)\n",
    "\n",
    "driver.close()"
   ]
  },
  {
   "cell_type": "code",
   "execution_count": 2,
   "metadata": {},
   "outputs": [
    {
     "name": "stdout",
     "output_type": "stream",
     "text": [
      "[['Venoco', '11/16/2006', '$17.00', 'VQ', '92275P307', 'IPO', 'Credit Suisse, Lehman Brothers, JP Morgan'], ['ACA Capital Holdings', '11/09/2006', '$13.00', 'ACA', '833103', 'IPO', 'Credit Suisse, JP Morgan, Bear Stearns'], ['Warner Chilcott', '09/20/2006', '$15.00', 'WCRX', 'G9435N108', 'IPO', 'Goldman Sachs, JP Morgan, Credit Suisse'], ['Qimonda AG', '08/08/2006', '$13.00', 'QI', '746904101', 'IPO', 'Citigroup, JP Morgan, Credit Suisse'], ['Penson Worldwide', '05/16/2006', '$17.00', 'PNSN', '709600100', 'IPO', 'JP Morgan, Credit Suisse'], ['Energy Solutions', '11/14/2007', '$23.00', 'ES', '292756202', 'IPO', 'Credit Suisse, JP Morgan, Morgan Stanley'], ['BioForm Medical', '11/06/2007', '$8.00', 'BFRM', '09065G107', 'IPO', 'Citigroup, JP Morgan, Credit Suisse'], ['WuXi PharmaTech', '08/08/2007', '$14.00', 'WX', '929352102', 'IPO', 'Credit Suisse, JP Morgan'], ['National CineMedia', '02/07/2007', '$21.00', 'NCMI', '635309107', 'IPO', 'Credit Suisse, JP Morgan, Lehman Brothers, Morgan Stanley'], ['Mellanox Technologies', '02/07/2007', '$17.00', 'MLNX', 'M51363113', 'IPO', 'Credit Suisse, JP Morgan'], ['Western Gas Partners LP', '05/08/2008', '$16.50', 'WES', '958254104', 'IPO', 'UBS, Citigroup, Credit Suisse, Morgan Stanley'], ['Cascal NV', '01/28/2008', '$12.00', 'HOO', 'N1842P109', 'IPO', 'JP Morgan, Credit Suisse'], ['Cobalt International Energy', '12/15/2009', '$13.50', 'CIE', '19075F106', 'IPO', 'Goldman Sachs, Morgan Stanley, Credit Suisse, Citigroup, JP Morgan'], ['PennyMac Mortgage Investment Trust', '07/29/2009', '$20.00', 'PMT', '70931T103', 'IPO', 'Merrill Lynch, Credit Suisse, Deutsche Bank'], ['FXCM', '12/01/2010', '$14.00', 'FXCM', '302693106', 'IPO', 'Credit Suisse, JP Morgan, Citigroup'], ['RealPage', '08/11/2010', '$11.00', 'RP', '75606N109', 'IPO', 'Credit Suisse, Deutsche Bank'], ['NXP Semiconductors N.V.', '08/05/2010', '$14.00', 'NXPI', 'N6596X109', 'IPO', 'Credit Suisse, Goldman Sachs, Morgan Stanley, BofA Merrill Lynch, Barclays Capital'], ['IntraLinks Holdings', '08/05/2010', '$13.00', 'IL', '46118H104', 'IPO', 'Morgan Stanley, Deutsche Bank, Credit Suisse'], ['Smart Technologies', '07/14/2010', '$17.00', 'SMT', '83172R108', 'IPO', 'Morgan Stanley, Deutsche Bank, RBC Capital Markets, BofA Merrill Lynch, Credit Suisse'], ['SS&C Technologies Holdings', '03/30/2010', '$15.00', 'SSNC', '78467J100', 'IPO', 'JP Morgan, Credit Suisse, Morgan Stanley, Deutsche Bank'], ['Groupon', '11/03/2011', '$20.00', 'GRPN', '399473107', 'IPO', 'Morgan Stanley, Goldman Sachs, Credit Suisse'], ['Tudou Holdings Limited', '08/16/2011', '$29.00', 'TUDO', '89903T107', 'IPO', 'Credit Suisse, Deutsche Bank'], ['SunCoke Energy', '07/20/2011', '$16.00', 'SXC', '86722A103', 'IPO', 'Credit Suisse, BofA Merrill Lynch, Goldman Sachs'], ['KiOR', '06/23/2011', '$15.00', 'KIOR', '497217109', 'IPO', 'Credit Suisse, UBS, Goldman Sachs'], ['Taomee Holdings Limited', '06/08/2011', '$9.00', 'TAOM', '876997966', 'IPO', 'Credit Suisse, Deutsche Bank'], ['Freescale Semiconductor Holdings', '05/25/2011', '$18.00', 'FSL', 'G3727Q101', 'IPO', 'Citigroup, Deutsche Bank, Barclays Capital, Credit Suisse, JP Morgan'], ['Boingo Wireless', '05/03/2011', '$13.50', 'WIFI', '09739C102', 'IPO', 'Credit Suisse, Deutsche Bank'], ['Tesoro Logistics LP', '04/19/2011', '$21.00', 'TLLP', '88160T107', 'IPO', 'Citigroup, Wells Fargo, BofA Merrill Lynch, Credit Suisse'], ['Apollo Global Management', '03/29/2011', '$19.00', 'APO', '37612306', 'IPO', 'Goldman Sachs, JP Morgan, BofA Merrill Lynch, Citigroup, Credit Suisse, Deutsche Bank, UBS'], ['Nielsen Holdings', '01/25/2011', '$23.00', 'NLSN', 'N63218106', 'IPO', 'JP Morgan, Morgan Stanley, Credit Suisse, Deutsche Bank, Goldman Sachs, Citigroup'], ['PBF Energy', '12/12/2012', '$26.00', 'PBF', '69318G106', 'IPO', 'Citigroup, Morgan Stanley, Credit Suisse, Deutsche Bank'], ['The WhiteWave Foods Company', '10/25/2012', '$17.00', 'WWAV', '966244105', 'IPO', 'JP Morgan, Credit Suisse, BofA Merrill Lynch'], ['Diamondback Energy', '10/11/2012', '$17.50', 'FANG', '25278X109', 'IPO', 'Credit Suisse'], ['JAVELIN Mortgage Investment', '10/02/2012', '$20.00', 'JMI', '47200B104', 'IPO', 'Deutsche Bank, Citigroup, Barclays, Credit Suisse'], ['Manchester United', '08/09/2012', '$14.00', 'MANU', 'G5784H106', 'IPO', 'Jefferies, Credit Suisse, JP Morgan'], ['Performant Financial', '08/09/2012', '$9.00', 'PFMT', '7.1377E+109', 'IPO', 'Morgan Stanley, Goldman Sachs, Credit Suisse, Wells Fargo'], ['Audience', '05/09/2012', '$17.00', 'ADNC', '05070J102', 'IPO', 'JP Morgan, Credit Suisse, Deutsche Bank'], ['The Carlyle Group LP', '05/02/2012', '$22.00', 'CG', '14309L102', 'IPO', 'JP Morgan, Citigroup, Credit Suisse'], ['Proofpoint', '04/19/2012', '$13.00', 'PFPT', '743424103', 'IPO', 'Credit Suisse, Deutsche Bank'], ['Forum Energy Technologies', '04/11/2012', '$20.00', 'FET', '34984V100', 'IPO', 'JP Morgan, BofA Merrill Lynch, Credit Suisse, Citigroup, Deutsche Bank'], ['Vantiv', '03/21/2012', '$17.00', 'VNTV', '92210H105', 'IPO', 'JP Morgan, Morgan Stanley, Credit Suisse, Goldman Sachs, Deutsche Bank'], ['Allison Transmission Holdings', '03/14/2012', '$23.00', 'ALSN', '01973R101', 'IPO', 'BofA Merrill Lynch, Citigroup, JP Morgan, Credit Suisse, Morgan Stanley, Goldman Sachs'], ['Bazaarvoice', '02/23/2012', '$12.00', 'BV', '73271108', 'IPO', 'Morgan Stanley, Deutsche Bank, Credit Suisse'], ['Caesars Entertainment', '02/07/2012', '$9.00', 'CZR', '127686103', 'IPO', 'Credit Suisse, Citigroup'], ['Evogene Ltd.', '11/20/2013', '$14.75', 'EVGN', 'M4119S104', 'IPO', 'Credit Suisse, Deutsche Bank'], ['Dynagas LNG Partners LP', '11/12/2013', '$18.00', 'DLNG', 'Y2188B108', 'IPO', 'Credit Suisse, BofA Merrill Lynch, Morgan Stanley, Barclays, Deutsche Bank'], ['Endurance International Group', '10/24/2013', '$12.00', 'EIGI', '29272B105', 'IPO', 'Goldman Sachs, Credit Suisse, Morgan Stanley'], ['Sprouts Farmers Market', '07/31/2013', '$18.00', 'SFM', '85208M102', 'IPO', 'Goldman Sachs, Credit Suisse'], ['Ply Gem Holdings', '05/22/2013', '$21.00', 'PGEM', '72941W100', 'IPO', 'JP Morgan, Credit Suisse, Goldman Sachs, UBS, Deutsche Bank'], ['Taminco', '04/17/2013', '$15.00', 'TAM', '87509U106', 'IPO', 'Citigroup, Goldman Sachs, Credit Suisse, JP Morgan'], ['Taylor Morrison Home', '04/09/2013', '$22.00', 'TMHC', '87724P106', 'IPO', 'Credit Suisse, Citigroup'], ['ZAIS Financial', '02/07/2013', '$21.25', 'ZFC', '98886K108', 'IPO', 'Deutsche Bank, Citigroup, Barclays, Credit Suisse'], ['Workiva', '12/11/2014', '$14.00', 'WK', '98139A105', 'IPO', 'Morgan Stanley, Credit Suisse'], ['Hortonworks', '12/11/2014', '$16.00', 'HDP', '440894103', 'IPO', 'Goldman Sachs, Credit Suisse, RBC'], ['Momo', '12/10/2014', '$13.50', 'MOMO', '60879B107', 'IPO', 'Morgan Stanley, Credit Suisse, JP Morgan, China Renaissance'], ['LendingClub', '12/10/2014', '$15.00', 'LC', '52603A109', 'IPO', 'Morgan Stanley, Goldman Sachs, Credit Suisse, Citigroup'], ['STORE Capital', '11/17/2014', '$18.50', 'STOR', '862121100', 'IPO', 'Goldman Sachs, Credit Suisse, Morgan Stanley'], ['INC Research Holdings', '11/06/2014', '$18.50', 'INCR', '45329R109', 'IPO', 'Goldman Sachs, Credit Suisse'], ['Freshpet', '11/06/2014', '$15.00', 'FRPT', '35899BA88', 'IPO', 'Goldman Sachs, Credit Suisse'], ['Fifth Street Asset Management', '10/29/2014', '$17.00', 'FSAM', '31679P109', 'IPO', 'Morgan Stanley, JP Morgan, Goldman Sachs, RBC, Credit Suisse'], ['Diplomat Pharmacy', '10/09/2014', '$13.00', 'DPLO', '25456K101', 'IPO', 'Credit Suisse, Morgan Stanley'], ['OM Asset Management Limited', '10/08/2014', '$14.00', 'OMAM', 'G67506108', 'IPO', 'BofA Merrill Lynch, Morgan Stanley, Citigroup, Credit Suisse'], ['USD Partners LP', '10/08/2014', '$17.00', 'USDP', '903318103', 'IPO', 'Citigroup, Barclays, Credit Suisse, BofA Merrill Lynch'], ['Yodlee', '10/02/2014', '$12.00', 'YDLE', '98600P201', 'IPO', 'Goldman Sachs, Credit Suisse, BofA Merrill Lynch'], ['Atento S.A.', '10/01/2014', '$15.00', 'ATTO', 'L0427L105', 'IPO', 'Morgan Stanley, Credit Suisse, Itau BBA'], ['Vivint Solar', '09/30/2014', '$16.00', 'VSLR', '92854Q106', 'IPO', 'Goldman Sachs, BofA Merrill Lynch, Credit Suisse'], ['Travelport Worldwide Limited', '09/24/2014', '$16.00', 'TVPT', 'G9019D104', 'IPO', 'Morgan Stanley, UBS, Credit Suisse, Deutsche Bank'], ['Smart & Final Stores', '09/23/2014', '$12.00', 'SFS', '83190B101', 'IPO', 'Credit Suisse, Morgan Stanley, Deutsche Bank'], ['Medley Management', '09/23/2014', '$18.00', 'MDLY', '58503T106', 'IPO', 'Goldman Sachs, Credit Suisse'], ['Alibaba Group Holding Limited', '09/18/2014', '$68.00', 'BABA', '01609W102', 'IPO', 'Credit Suisse, Deutsche Bank, Goldman Sachs, JP Morgan, Morgan Stanley, Citigroup'], ['MacroCure Ltd.', '07/30/2014', '$10.00', 'MCUR', 'M67872107', 'IPO', 'Credit Suisse, Jefferies'], ['ServiceMaster Global Holdings', '06/25/2014', '$17.00', 'SERV', '81761R109', 'IPO', 'JP Morgan, Credit Suisse, Goldman Sachs, Morgan Stanley'], ['Markit Ltd.', '06/18/2014', '$24.00', 'MRKT', 'G58249106', 'IPO', 'BofA Merrill Lynch, Barclays, Citigroup, Credit Suisse'], ['GasLog Partners LP', '05/06/2014', '$21.00', 'GLOP', 'Y2687W108', 'IPO', 'Citigroup, Credit Suisse, Wells Fargo'], ['Sportsman’s Warehouse Holdings', '04/16/2014', '$9.50', 'SPWH', '84920Y106', 'IPO', 'Credit Suisse, Goldman Sachs'], ['Nord Anglia Education', '03/25/2014', '$16.00', 'NORD', 'G6583A102', 'IPO', 'Credit Suisse, Goldman Sachs, JP Morgan'], ['King Digital Entertainment', '03/25/2014', '$22.50', 'KING', 'G5258J109', 'IPO', 'JP Morgan, Credit Suisse, BofA Merrill Lynch'], ['Continental Building Products', '02/04/2014', '$14.00', 'CBPX', '211171103', 'IPO', 'Citigroup,Credit Suisse'], ['Intrawest Resorts Holdings', '01/30/2014', '$12.00', 'SNOW', '46090K109', 'IPO', 'Goldman Sachs, Credit Suisse, Deutsche Bank, BofA Merrill Lynch'], ['EP Energy', '01/16/2014', '$20.00', 'EPE', '268785102', 'IPO', 'Credit Suisse, JP Morgan'], ['Yirendai', '12/17/2015', '$10.00', 'YRD', '98585L100', 'IPO', 'Morgan Stanley, Credit Suisse, China Renaissance'], ['Mesoblast', '11/12/2015', '$8.00', 'MESO', '590717104', 'IPO', 'JP Morgan, Credit Suisse'], ['MyoKardia', '10/28/2015', '$10.00', 'MYOK', '62857M105', 'IPO', 'Credit Suisse, Cowen & Company'], ['Performance Food Group', '09/30/2015', '$19.00', 'PFGC', '71377A103', 'IPO', 'Credit Suisse, Barclays, Wells Fargo Securities, Morgan Stanley'], ['Edge Therapeutics', '09/30/2015', '$11.00', 'EDGE', '279870109', 'IPO', 'Leerink Partners, Credit Suisse'], ['Aimmune Therapeutics', '08/05/2015', '$16.00', 'AIMT', '00900T107', 'IPO', 'BofA Merrill Lynch, Credit Suisse, Piper Jaffray'], ['Planet Fitness', '08/05/2015', '$16.00', 'PLNT', '72703H101', 'IPO', 'JP Morgan, BofA Merrill Lynch, Jefferies, Credit Suisse'], ['Amplify Snack Brands', '08/04/2015', '$18.00', 'BETR', '03211L102', 'IPO', 'Goldman Sachs, Jefferies, Credit Suisse, SunTrust Robinson Humphrey'], ['Sunrun', '08/04/2015', '$14.00', 'RUN', '86771W105', 'IPO', 'Credit Suisse, Goldman Sachs, Morgan Stanley, BofA Merrill Lynch, RBC Capital Markets'], ['Ooma', '07/16/2015', '$13.00', 'OOMA', '683416101', 'IPO', 'Credit Suisse, BofA Merrill Lynch, JMP Securities'], [\"Ollie's Bargain Outlet Holdings\", '07/15/2015', '$16.00', 'OLLI', '681116109', 'IPO', 'JP Morgan, Jefferies, BofA Merrill Lynch, Credit Suisse, Piper Jaffray, KeyBanc Capital Markets, RBC Capital Markets'], ['AppFolio', '06/25/2015', '$12.00', 'APPF', '03783C100', 'IPO', 'Morgan Stanley, Credit Suisse'], ['Alarm.com Holdings', '06/25/2015', '$14.00', 'ALRM', '011642105', 'IPO', 'Goldman Sachs, Credit Suisse, BofA Merrill Lynch'], ['Green Plains Partners', '06/25/2015', '$15.00', 'GPP', '393221106', 'IPO', 'Barclays, BofA Merrill Lynch, Credit Suisse, Macquarie Capital, RBC Capital Markets'], ['TransUnion', '06/24/2015', '$22.50', 'TRU', '89400J107', 'IPO', 'Goldman Sachs, JP Morgan, BofA Merrill Lynch, Deutsche Bank, RBC Capital Markets, Wells Fargo Securities, Credit Suisse'], ['Lantheus Holdings', '06/24/2015', '$6.00', 'LNTH', '516544103', 'IPO', 'Credit Suisse, Jefferies, RBC Capital Markets, Wells Fargo Securities'], ['Milacron Holdings', '06/24/2015', '$20.00', 'MCRN', '59870L106', 'IPO', 'BofA Merrill Lynch, Barclays, JP Morgan, Baird, Credit Suisse, Goldman Sachs'], ['MINDBODY', '06/18/2015', '$14.00', 'MB', '60255W105', 'IPO', 'Morgan Stanley, Credit Suisse, UBC, Pacific Crest Securities, JMP Securities'], ['Baozun', '05/20/2015', '$10.00', 'BZUN', '06684L103', 'IPO', 'Morgan Stanley, Credit Suisse, BofA Merrill Lynch'], ['Shopify', '05/20/2015', '$17.00', 'SHOP', '82509L107', 'IPO', 'Morgan Stanley, Credit Suisse, RBC Capital Markets'], ['Arcadia Biosciences', '05/14/2015', '$8.00', 'RKDA', '39014105', 'IPO', 'Credit Suisse, JP Morgan, Piper Jaffray'], ['EQT GP Holdings', '05/11/2015', '$27.00', 'EQGP', '26885J103', 'IPO', 'Barclays, Goldman Sachs, BofA Merrill Lynch, Citigroup, Credit Suisse, Deutsche Bank, JP Morgan, RBC Capital Markets, Wells Fargo'], ['Echo Global Logistics', '04/29/2015', '$29.00', 'ECHO', '27875T101', 'IPO', 'Morgan Stanley, Credit Suisse'], ['Apigee Corporation', '04/23/2015', '$17.00', 'APIC', '03765N108', 'IPO', 'Morgan Stanley, JP Morgan, Credit Suisse'], ['Virtu Financial', '04/15/2015', '$19.00', 'VIRT', '928254101', 'IPO', \"Goldman Sachs, JP Morgan, Sandler O'Neill, BMO, Citigroup, Credit Suisse, Evercore ISI, UBS Investment Bank\"], ['Party City Holdco', '04/15/2015', '$17.00', 'PRTY', '702149105', 'IPO', 'Goldman Sachs, BofA Merrill Lynch, Credit Suisse, Morgan Stanley, Barclays, Deutsche Bank, JP Morgan'], ['Goldman Sachs BDC', '03/17/2015', '$20.00', 'GSBD', '38147U107', 'IPO', 'BofA Merrill Lynch, Goldman Sachs, Morgan Stanley, Citigroup, Credit Suisse, Wells Fargo Securities'], ['Spark Therapeutics', '01/29/2015', '$23.00', 'ONCE', '84652J103', 'IPO', 'JP Morgan, Credit Suisse'], ['Box', '01/22/2015', '$14.00', 'BOX', '10316R104', 'IPO', 'Morgan Stanley, Credit Suisse, JP Morgan']]\n"
     ]
    }
   ],
   "source": [
    "with open('fidelity-credit_suisse-IPOs.json', 'rb') as f:\n",
    "    ipos = json.load(f)\n",
    "    \n",
    "for ipo in ipos:\n",
    "    print()"
   ]
  },
  {
   "cell_type": "code",
   "execution_count": null,
   "metadata": {},
   "outputs": [],
   "source": []
  }
 ],
 "metadata": {
  "kernelspec": {
   "display_name": "Python 3",
   "language": "python",
   "name": "python3"
  },
  "language_info": {
   "codemirror_mode": {
    "name": "ipython",
    "version": 3
   },
   "file_extension": ".py",
   "mimetype": "text/x-python",
   "name": "python",
   "nbconvert_exporter": "python",
   "pygments_lexer": "ipython3",
   "version": "3.8.5"
  }
 },
 "nbformat": 4,
 "nbformat_minor": 4
}
