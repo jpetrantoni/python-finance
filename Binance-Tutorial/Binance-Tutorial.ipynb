{
 "cells": [
  {
   "cell_type": "markdown",
   "metadata": {},
   "source": [
    "# Binance API Tutorial Pt.1"
   ]
  },
  {
   "cell_type": "markdown",
   "metadata": {},
   "source": [
    "#### Full Binance Docs\n",
    "https://python-binance.readthedocs.io/en/latest/index.html"
   ]
  },
  {
   "cell_type": "markdown",
   "metadata": {},
   "source": [
    "### Import Packages"
   ]
  },
  {
   "cell_type": "code",
   "execution_count": 17,
   "metadata": {},
   "outputs": [],
   "source": [
    "import os\n",
    "import pandas as pd\n",
    "import time\n",
    "from binance.client import Client\n",
    "from binance.enums import *"
   ]
  },
  {
   "cell_type": "markdown",
   "metadata": {},
   "source": [
    "### Initialize Client"
   ]
  },
  {
   "cell_type": "code",
   "execution_count": 36,
   "metadata": {},
   "outputs": [],
   "source": [
    "client = Client()"
   ]
  },
  {
   "cell_type": "markdown",
   "metadata": {},
   "source": [
    "### Make API Call to get the candle information of Bitcoin"
   ]
  },
  {
   "cell_type": "code",
   "execution_count": 37,
   "metadata": {},
   "outputs": [
    {
     "name": "stdout",
     "output_type": "stream",
     "text": [
      "[[1626307200000, '32820.03000000', '33185.25000000', '31133.00000000', '31880.00000000', '51639.57635300', 1626393599999, '1652077965.43655981', 1099367, '24866.40578700', '795831015.69614899', '0'], [1626393600000, '31874.49000000', '32249.18000000', '31020.00000000', '31383.87000000', '48499.86415400', 1626479999999, '1538342711.57965672', 1067591, '23963.74456800', '760274744.55207078', '0'], [1626480000000, '31383.86000000', '31955.92000000', '31164.31000000', '31520.07000000', '34012.24213200', 1626566399999, '1072815966.33630751', 883442, '16649.05130800', '525240023.82137983', '0'], [1626566400000, '31520.07000000', '32435.00000000', '31108.97000000', '31778.56000000', '35923.71618600', 1626652799999, '1140964365.64660148', 760979, '17554.18265300', '557709781.11918031', '0'], [1626652800000, '31778.57000000', '31899.00000000', '30407.44000000', '30839.65000000', '47340.46849900', 1626739199999, '1470563281.93650284', 846029, '22709.51004500', '705480091.14467479', '0'], [1626739200000, '30839.65000000', '31063.07000000', '29278.00000000', '29790.35000000', '61034.04901700', 1626825599999, '1821230700.02039109', 1062139, '28424.82505000', '847855259.13993829', '0'], [1626825600000, '29790.34000000', '32858.00000000', '29482.61000000', '32144.51000000', '82796.26512800', 1626911999999, '2603140706.08222436', 1415058, '42584.67221900', '1338356405.54193175', '0'], [1626912000000, '32144.51000000', '32591.35000000', '31708.00000000', '32287.83000000', '46148.09243300', 1626998399999, '1482763544.95053643', 1000742, '23274.51280500', '747848528.87672003', '0'], [1626998400000, '32287.58000000', '33650.00000000', '31924.32000000', '33634.09000000', '50112.86362600', 1627084799999, '1631947003.07304657', 1394786, '25018.97707900', '815391041.19337381', '0'], [1627084800000, '33634.10000000', '34500.00000000', '33401.14000000', '34328.77000000', '39274.13839700', 1627171199999, '1329169294.32462998', 910811, '19692.94814800', '666687073.66311540', '0']]\n"
     ]
    }
   ],
   "source": [
    "data = client.get_klines(symbol=\"BTCUSDT\", interval=KLINE_INTERVAL_1DAY, limit=10)\n",
    "print(data)"
   ]
  },
  {
   "cell_type": "markdown",
   "metadata": {},
   "source": [
    "### Clean Data"
   ]
  },
  {
   "cell_type": "code",
   "execution_count": 38,
   "metadata": {},
   "outputs": [
    {
     "data": {
      "text/html": [
       "<div>\n",
       "<style scoped>\n",
       "    .dataframe tbody tr th:only-of-type {\n",
       "        vertical-align: middle;\n",
       "    }\n",
       "\n",
       "    .dataframe tbody tr th {\n",
       "        vertical-align: top;\n",
       "    }\n",
       "\n",
       "    .dataframe thead th {\n",
       "        text-align: right;\n",
       "    }\n",
       "</style>\n",
       "<table border=\"1\" class=\"dataframe\">\n",
       "  <thead>\n",
       "    <tr style=\"text-align: right;\">\n",
       "      <th></th>\n",
       "      <th>Open time</th>\n",
       "      <th>Open price</th>\n",
       "      <th>High price</th>\n",
       "      <th>Low price</th>\n",
       "      <th>Close price</th>\n",
       "      <th>Volume</th>\n",
       "      <th>Close time</th>\n",
       "    </tr>\n",
       "  </thead>\n",
       "  <tbody>\n",
       "    <tr>\n",
       "      <th>0</th>\n",
       "      <td>2021/07/14</td>\n",
       "      <td>32820.03</td>\n",
       "      <td>33185.25</td>\n",
       "      <td>31133.00</td>\n",
       "      <td>31880.00</td>\n",
       "      <td>51639.58</td>\n",
       "      <td>2021/07/15</td>\n",
       "    </tr>\n",
       "    <tr>\n",
       "      <th>1</th>\n",
       "      <td>2021/07/15</td>\n",
       "      <td>31874.49</td>\n",
       "      <td>32249.18</td>\n",
       "      <td>31020.00</td>\n",
       "      <td>31383.87</td>\n",
       "      <td>48499.86</td>\n",
       "      <td>2021/07/16</td>\n",
       "    </tr>\n",
       "    <tr>\n",
       "      <th>2</th>\n",
       "      <td>2021/07/16</td>\n",
       "      <td>31383.86</td>\n",
       "      <td>31955.92</td>\n",
       "      <td>31164.31</td>\n",
       "      <td>31520.07</td>\n",
       "      <td>34012.24</td>\n",
       "      <td>2021/07/17</td>\n",
       "    </tr>\n",
       "    <tr>\n",
       "      <th>3</th>\n",
       "      <td>2021/07/17</td>\n",
       "      <td>31520.07</td>\n",
       "      <td>32435.00</td>\n",
       "      <td>31108.97</td>\n",
       "      <td>31778.56</td>\n",
       "      <td>35923.72</td>\n",
       "      <td>2021/07/18</td>\n",
       "    </tr>\n",
       "    <tr>\n",
       "      <th>4</th>\n",
       "      <td>2021/07/18</td>\n",
       "      <td>31778.57</td>\n",
       "      <td>31899.00</td>\n",
       "      <td>30407.44</td>\n",
       "      <td>30839.65</td>\n",
       "      <td>47340.47</td>\n",
       "      <td>2021/07/19</td>\n",
       "    </tr>\n",
       "    <tr>\n",
       "      <th>5</th>\n",
       "      <td>2021/07/19</td>\n",
       "      <td>30839.65</td>\n",
       "      <td>31063.07</td>\n",
       "      <td>29278.00</td>\n",
       "      <td>29790.35</td>\n",
       "      <td>61034.05</td>\n",
       "      <td>2021/07/20</td>\n",
       "    </tr>\n",
       "    <tr>\n",
       "      <th>6</th>\n",
       "      <td>2021/07/20</td>\n",
       "      <td>29790.34</td>\n",
       "      <td>32858.00</td>\n",
       "      <td>29482.61</td>\n",
       "      <td>32144.51</td>\n",
       "      <td>82796.27</td>\n",
       "      <td>2021/07/21</td>\n",
       "    </tr>\n",
       "    <tr>\n",
       "      <th>7</th>\n",
       "      <td>2021/07/21</td>\n",
       "      <td>32144.51</td>\n",
       "      <td>32591.35</td>\n",
       "      <td>31708.00</td>\n",
       "      <td>32287.83</td>\n",
       "      <td>46148.09</td>\n",
       "      <td>2021/07/22</td>\n",
       "    </tr>\n",
       "    <tr>\n",
       "      <th>8</th>\n",
       "      <td>2021/07/22</td>\n",
       "      <td>32287.58</td>\n",
       "      <td>33650.00</td>\n",
       "      <td>31924.32</td>\n",
       "      <td>33634.09</td>\n",
       "      <td>50112.86</td>\n",
       "      <td>2021/07/23</td>\n",
       "    </tr>\n",
       "    <tr>\n",
       "      <th>9</th>\n",
       "      <td>2021/07/23</td>\n",
       "      <td>33634.10</td>\n",
       "      <td>34500.00</td>\n",
       "      <td>33401.14</td>\n",
       "      <td>34328.77</td>\n",
       "      <td>39274.14</td>\n",
       "      <td>2021/07/24</td>\n",
       "    </tr>\n",
       "  </tbody>\n",
       "</table>\n",
       "</div>"
      ],
      "text/plain": [
       "    Open time  Open price  High price  Low price  Close price    Volume  \\\n",
       "0  2021/07/14    32820.03    33185.25   31133.00     31880.00  51639.58   \n",
       "1  2021/07/15    31874.49    32249.18   31020.00     31383.87  48499.86   \n",
       "2  2021/07/16    31383.86    31955.92   31164.31     31520.07  34012.24   \n",
       "3  2021/07/17    31520.07    32435.00   31108.97     31778.56  35923.72   \n",
       "4  2021/07/18    31778.57    31899.00   30407.44     30839.65  47340.47   \n",
       "5  2021/07/19    30839.65    31063.07   29278.00     29790.35  61034.05   \n",
       "6  2021/07/20    29790.34    32858.00   29482.61     32144.51  82796.27   \n",
       "7  2021/07/21    32144.51    32591.35   31708.00     32287.83  46148.09   \n",
       "8  2021/07/22    32287.58    33650.00   31924.32     33634.09  50112.86   \n",
       "9  2021/07/23    33634.10    34500.00   33401.14     34328.77  39274.14   \n",
       "\n",
       "   Close time  \n",
       "0  2021/07/15  \n",
       "1  2021/07/16  \n",
       "2  2021/07/17  \n",
       "3  2021/07/18  \n",
       "4  2021/07/19  \n",
       "5  2021/07/20  \n",
       "6  2021/07/21  \n",
       "7  2021/07/22  \n",
       "8  2021/07/23  \n",
       "9  2021/07/24  "
      ]
     },
     "execution_count": 38,
     "metadata": {},
     "output_type": "execute_result"
    }
   ],
   "source": [
    "data_dict = {\n",
    "    \"Open time\":[],\n",
    "    \"Open price\":[],\n",
    "    \"High price\":[],\n",
    "    \"Low price\":[],\n",
    "    \"Close price\":[],\n",
    "    \"Volume\":[],\n",
    "    \"Close time\":[]\n",
    "                  }\n",
    "\n",
    "for candle in data:\n",
    "    open_time = dt.datetime.fromtimestamp(candle[0]/1000).strftime(\"%Y/%m/%d\")\n",
    "    close_time = dt.datetime.fromtimestamp(candle[6]/1000).strftime(\"%Y/%m/%d\")\n",
    "    data_dict[\"Open time\"].append(open_time)\n",
    "    data_dict[\"Open price\"].append(float(candle[1]))\n",
    "    data_dict[\"High price\"].append(float(candle[2]))\n",
    "    data_dict[\"Low price\"].append(float(candle[3]))\n",
    "    data_dict[\"Close price\"].append(float(candle[4]))\n",
    "    data_dict[\"Volume\"].append(round(float(candle[5]),2))\n",
    "    data_dict[\"Close time\"].append(close_time)\n",
    "\n",
    "df = pd.DataFrame(data_dict)\n",
    "\n",
    "df"
   ]
  },
  {
   "cell_type": "code",
   "execution_count": null,
   "metadata": {},
   "outputs": [],
   "source": []
  }
 ],
 "metadata": {
  "kernelspec": {
   "display_name": "Python 3",
   "language": "python",
   "name": "python3"
  },
  "language_info": {
   "codemirror_mode": {
    "name": "ipython",
    "version": 3
   },
   "file_extension": ".py",
   "mimetype": "text/x-python",
   "name": "python",
   "nbconvert_exporter": "python",
   "pygments_lexer": "ipython3",
   "version": "3.8.5"
  }
 },
 "nbformat": 4,
 "nbformat_minor": 4
}
